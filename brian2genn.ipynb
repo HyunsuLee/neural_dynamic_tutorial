{
 "cells": [
  {
   "cell_type": "code",
   "execution_count": 1,
   "metadata": {},
   "outputs": [],
   "source": [
    "import brian2genn\n",
    "import brian2"
   ]
  },
  {
   "cell_type": "code",
   "execution_count": 2,
   "metadata": {},
   "outputs": [
    {
     "name": "stderr",
     "output_type": "stream",
     "text": [
      "INFO       The following preferences have been changed for Brian2GeNN, reset them manually if you use a different device later in the same script: codegen.loop_invariant_optimisations, core.network.default_schedule [brian2.devices.genn]\n"
     ]
    }
   ],
   "source": [
    "brian2.set_device('genn', use_GPU=True, debug=True)"
   ]
  },
  {
   "cell_type": "code",
   "execution_count": 3,
   "metadata": {},
   "outputs": [],
   "source": [
    "brian2.prefs.devices.genn.cuda_backend.device_select = 'MANUAL'"
   ]
  },
  {
   "cell_type": "code",
   "execution_count": 4,
   "metadata": {},
   "outputs": [],
   "source": [
    "brian2.prefs.devices.genn.cuda_backend.manual_device = 1"
   ]
  },
  {
   "cell_type": "code",
   "execution_count": 5,
   "metadata": {},
   "outputs": [
    {
     "name": "stderr",
     "output_type": "stream",
     "text": [
      "INFO       No numerical integration method specified for group 'neurongroup', using method 'exact' (took 0.17s). [brian2.stateupdaters.base.method_choice]\n"
     ]
    },
    {
     "name": "stdout",
     "output_type": "stream",
     "text": [
      "running brian code generation ...\n"
     ]
    },
    {
     "ename": "KeyError",
     "evalue": "'before_network_run'",
     "output_type": "error",
     "traceback": [
      "\u001b[0;31m---------------------------------------------------------------------------\u001b[0m",
      "\u001b[0;31mKeyError\u001b[0m                                  Traceback (most recent call last)",
      "Cell \u001b[0;32mIn[5], line 11\u001b[0m\n\u001b[1;32m      6\u001b[0m eqs \u001b[39m=\u001b[39m \u001b[39m'''\u001b[39m\n\u001b[1;32m      7\u001b[0m \u001b[39mdV/dt = -V/tau + Iin : 1\u001b[39m\n\u001b[1;32m      8\u001b[0m \u001b[39m'''\u001b[39m\n\u001b[1;32m      9\u001b[0m G \u001b[39m=\u001b[39m brian2\u001b[39m.\u001b[39mNeuronGroup(N, eqs, threshold\u001b[39m=\u001b[39m\u001b[39m'\u001b[39m\u001b[39mV>1\u001b[39m\u001b[39m'\u001b[39m, reset\u001b[39m=\u001b[39m\u001b[39m'\u001b[39m\u001b[39mV=0\u001b[39m\u001b[39m'\u001b[39m, refractory\u001b[39m=\u001b[39m\u001b[39m5\u001b[39m \u001b[39m*\u001b[39m brian2\u001b[39m.\u001b[39mms)\n\u001b[0;32m---> 11\u001b[0m brian2\u001b[39m.\u001b[39;49mrun(\u001b[39m10\u001b[39;49m\u001b[39m*\u001b[39;49mbrian2\u001b[39m.\u001b[39;49mms)\n",
      "File \u001b[0;32m~/.conda/envs/brian2/lib/python3.10/site-packages/brian2/units/fundamentalunits.py:2780\u001b[0m, in \u001b[0;36mcheck_units.<locals>.do_check_units.<locals>.new_f\u001b[0;34m(*args, **kwds)\u001b[0m\n\u001b[1;32m   2770\u001b[0m             error_message \u001b[39m=\u001b[39m (\n\u001b[1;32m   2771\u001b[0m                 \u001b[39mf\u001b[39m\u001b[39m\"\u001b[39m\u001b[39mFunction \u001b[39m\u001b[39m'\u001b[39m\u001b[39m{\u001b[39;00mf\u001b[39m.\u001b[39m\u001b[39m__name__\u001b[39m\u001b[39m}\u001b[39;00m\u001b[39m'\u001b[39m\u001b[39m \u001b[39m\u001b[39m\"\u001b[39m\n\u001b[1;32m   2772\u001b[0m                 \u001b[39m\"\u001b[39m\u001b[39mexpected a quantitity with unit \u001b[39m\u001b[39m\"\u001b[39m\n\u001b[1;32m   2773\u001b[0m                 \u001b[39mf\u001b[39m\u001b[39m\"\u001b[39m\u001b[39m{\u001b[39;00munit\u001b[39m}\u001b[39;00m\u001b[39m for argument \u001b[39m\u001b[39m'\u001b[39m\u001b[39m{\u001b[39;00mk\u001b[39m}\u001b[39;00m\u001b[39m'\u001b[39m\u001b[39m but got \u001b[39m\u001b[39m\"\u001b[39m\n\u001b[1;32m   2774\u001b[0m                 \u001b[39mf\u001b[39m\u001b[39m\"\u001b[39m\u001b[39m'\u001b[39m\u001b[39m{\u001b[39;00mvalue\u001b[39m}\u001b[39;00m\u001b[39m'\u001b[39m\u001b[39m\"\u001b[39m\n\u001b[1;32m   2775\u001b[0m             )\n\u001b[1;32m   2776\u001b[0m             \u001b[39mraise\u001b[39;00m DimensionMismatchError(\n\u001b[1;32m   2777\u001b[0m                 error_message, get_dimensions(newkeyset[k])\n\u001b[1;32m   2778\u001b[0m             )\n\u001b[0;32m-> 2780\u001b[0m result \u001b[39m=\u001b[39m f(\u001b[39m*\u001b[39;49margs, \u001b[39m*\u001b[39;49m\u001b[39m*\u001b[39;49mkwds)\n\u001b[1;32m   2781\u001b[0m \u001b[39mif\u001b[39;00m \u001b[39m\"\u001b[39m\u001b[39mresult\u001b[39m\u001b[39m\"\u001b[39m \u001b[39min\u001b[39;00m au:\n\u001b[1;32m   2782\u001b[0m     \u001b[39mif\u001b[39;00m \u001b[39misinstance\u001b[39m(au[\u001b[39m\"\u001b[39m\u001b[39mresult\u001b[39m\u001b[39m\"\u001b[39m], Callable) \u001b[39mand\u001b[39;00m au[\u001b[39m\"\u001b[39m\u001b[39mresult\u001b[39m\u001b[39m\"\u001b[39m] \u001b[39m!=\u001b[39m \u001b[39mbool\u001b[39m:\n",
      "File \u001b[0;32m~/.conda/envs/brian2/lib/python3.10/site-packages/brian2/core/magic.py:407\u001b[0m, in \u001b[0;36mrun\u001b[0;34m(duration, report, report_period, namespace, profile, level)\u001b[0m\n\u001b[1;32m    334\u001b[0m \u001b[39m@check_units\u001b[39m(duration\u001b[39m=\u001b[39msecond, report_period\u001b[39m=\u001b[39msecond)\n\u001b[1;32m    335\u001b[0m \u001b[39mdef\u001b[39;00m \u001b[39mrun\u001b[39m(\n\u001b[1;32m    336\u001b[0m     duration,\n\u001b[0;32m   (...)\u001b[0m\n\u001b[1;32m    341\u001b[0m     level\u001b[39m=\u001b[39m\u001b[39m0\u001b[39m,\n\u001b[1;32m    342\u001b[0m ):\n\u001b[1;32m    343\u001b[0m \u001b[39m    \u001b[39m\u001b[39m\"\"\"\u001b[39;00m\n\u001b[1;32m    344\u001b[0m \u001b[39m    run(duration, report=None, report_period=10*second, namespace=None, level=0)\u001b[39;00m\n\u001b[1;32m    345\u001b[0m \n\u001b[0;32m   (...)\u001b[0m\n\u001b[1;32m    405\u001b[0m \u001b[39m        intended use. See `MagicNetwork` for more details.\u001b[39;00m\n\u001b[1;32m    406\u001b[0m \u001b[39m    \"\"\"\u001b[39;00m\n\u001b[0;32m--> 407\u001b[0m     \u001b[39mreturn\u001b[39;00m magic_network\u001b[39m.\u001b[39;49mrun(\n\u001b[1;32m    408\u001b[0m         duration,\n\u001b[1;32m    409\u001b[0m         report\u001b[39m=\u001b[39;49mreport,\n\u001b[1;32m    410\u001b[0m         report_period\u001b[39m=\u001b[39;49mreport_period,\n\u001b[1;32m    411\u001b[0m         namespace\u001b[39m=\u001b[39;49mnamespace,\n\u001b[1;32m    412\u001b[0m         profile\u001b[39m=\u001b[39;49mprofile,\n\u001b[1;32m    413\u001b[0m         level\u001b[39m=\u001b[39;49m\u001b[39m2\u001b[39;49m \u001b[39m+\u001b[39;49m level,\n\u001b[1;32m    414\u001b[0m     )\n",
      "File \u001b[0;32m~/.conda/envs/brian2/lib/python3.10/site-packages/brian2/core/magic.py:248\u001b[0m, in \u001b[0;36mMagicNetwork.run\u001b[0;34m(self, duration, report, report_period, namespace, profile, level)\u001b[0m\n\u001b[1;32m    238\u001b[0m \u001b[39mdef\u001b[39;00m \u001b[39mrun\u001b[39m(\n\u001b[1;32m    239\u001b[0m     \u001b[39mself\u001b[39m,\n\u001b[1;32m    240\u001b[0m     duration,\n\u001b[0;32m   (...)\u001b[0m\n\u001b[1;32m    245\u001b[0m     level\u001b[39m=\u001b[39m\u001b[39m0\u001b[39m,\n\u001b[1;32m    246\u001b[0m ):\n\u001b[1;32m    247\u001b[0m     \u001b[39mself\u001b[39m\u001b[39m.\u001b[39m_update_magic_objects(level\u001b[39m=\u001b[39mlevel \u001b[39m+\u001b[39m \u001b[39m1\u001b[39m)\n\u001b[0;32m--> 248\u001b[0m     Network\u001b[39m.\u001b[39;49mrun(\n\u001b[1;32m    249\u001b[0m         \u001b[39mself\u001b[39;49m,\n\u001b[1;32m    250\u001b[0m         duration,\n\u001b[1;32m    251\u001b[0m         report\u001b[39m=\u001b[39;49mreport,\n\u001b[1;32m    252\u001b[0m         report_period\u001b[39m=\u001b[39;49mreport_period,\n\u001b[1;32m    253\u001b[0m         namespace\u001b[39m=\u001b[39;49mnamespace,\n\u001b[1;32m    254\u001b[0m         profile\u001b[39m=\u001b[39;49mprofile,\n\u001b[1;32m    255\u001b[0m         level\u001b[39m=\u001b[39;49mlevel \u001b[39m+\u001b[39;49m \u001b[39m1\u001b[39;49m,\n\u001b[1;32m    256\u001b[0m     )\n",
      "File \u001b[0;32m~/.conda/envs/brian2/lib/python3.10/site-packages/brian2/core/base.py:333\u001b[0m, in \u001b[0;36mdevice_override.<locals>.device_override_decorator.<locals>.device_override_decorated_function\u001b[0;34m(*args, **kwds)\u001b[0m\n\u001b[1;32m    331\u001b[0m curdev \u001b[39m=\u001b[39m get_device()\n\u001b[1;32m    332\u001b[0m \u001b[39mif\u001b[39;00m \u001b[39mhasattr\u001b[39m(curdev, name):\n\u001b[0;32m--> 333\u001b[0m     \u001b[39mreturn\u001b[39;00m \u001b[39mgetattr\u001b[39;49m(curdev, name)(\u001b[39m*\u001b[39;49margs, \u001b[39m*\u001b[39;49m\u001b[39m*\u001b[39;49mkwds)\n\u001b[1;32m    334\u001b[0m \u001b[39melse\u001b[39;00m:\n\u001b[1;32m    335\u001b[0m     \u001b[39mreturn\u001b[39;00m func(\u001b[39m*\u001b[39margs, \u001b[39m*\u001b[39m\u001b[39m*\u001b[39mkwds)\n",
      "File \u001b[0;32m~/.conda/envs/brian2/lib/python3.10/site-packages/brian2genn/device.py:1821\u001b[0m, in \u001b[0;36mGeNNDevice.network_run\u001b[0;34m(self, net, duration, report, report_period, namespace, profile, level, **kwds)\u001b[0m\n\u001b[1;32m   1817\u001b[0m \u001b[39mprint\u001b[39m(\u001b[39m'\u001b[39m\u001b[39mrunning brian code generation ...\u001b[39m\u001b[39m'\u001b[39m)\n\u001b[1;32m   1819\u001b[0m \u001b[39mself\u001b[39m\u001b[39m.\u001b[39mnet \u001b[39m=\u001b[39m net\n\u001b[0;32m-> 1821\u001b[0m \u001b[39msuper\u001b[39;49m(GeNNDevice, \u001b[39mself\u001b[39;49m)\u001b[39m.\u001b[39;49mnetwork_run(net\u001b[39m=\u001b[39;49mnet, duration\u001b[39m=\u001b[39;49mduration,\n\u001b[1;32m   1822\u001b[0m                                     report\u001b[39m=\u001b[39;49mreport,\n\u001b[1;32m   1823\u001b[0m                                     report_period\u001b[39m=\u001b[39;49mreport_period,\n\u001b[1;32m   1824\u001b[0m                                     namespace\u001b[39m=\u001b[39;49mnamespace,\n\u001b[1;32m   1825\u001b[0m                                     level\u001b[39m=\u001b[39;49mlevel \u001b[39m+\u001b[39;49m \u001b[39m1\u001b[39;49m)\n\u001b[1;32m   1826\u001b[0m \u001b[39mself\u001b[39m\u001b[39m.\u001b[39mrun_statement_used \u001b[39m=\u001b[39m \u001b[39mTrue\u001b[39;00m\n",
      "File \u001b[0;32m~/.conda/envs/brian2/lib/python3.10/site-packages/brian2/devices/cpp_standalone/device.py:1780\u001b[0m, in \u001b[0;36mCPPStandaloneDevice.network_run\u001b[0;34m(self, net, duration, report, report_period, namespace, profile, level, **kwds)\u001b[0m\n\u001b[1;32m   1777\u001b[0m     \u001b[39mif\u001b[39;00m clock \u001b[39mnot\u001b[39;00m \u001b[39min\u001b[39;00m all_clocks:\n\u001b[1;32m   1778\u001b[0m         run_lines\u001b[39m.\u001b[39mappend(\u001b[39mf\u001b[39m\u001b[39m\"\u001b[39m\u001b[39m{\u001b[39;00mnet\u001b[39m.\u001b[39mname\u001b[39m}\u001b[39;00m\u001b[39m.add(&\u001b[39m\u001b[39m{\u001b[39;00mclock\u001b[39m.\u001b[39mname\u001b[39m}\u001b[39;00m\u001b[39m, NULL);\u001b[39m\u001b[39m\"\u001b[39m)\n\u001b[0;32m-> 1780\u001b[0m run_lines\u001b[39m.\u001b[39mextend(\u001b[39mself\u001b[39;49m\u001b[39m.\u001b[39;49mcode_lines[\u001b[39m\"\u001b[39;49m\u001b[39mbefore_network_run\u001b[39;49m\u001b[39m\"\u001b[39;49m])\n\u001b[1;32m   1781\u001b[0m run_lines\u001b[39m.\u001b[39mappend(\n\u001b[1;32m   1782\u001b[0m     \u001b[39mf\u001b[39m\u001b[39m\"\u001b[39m\u001b[39m{\u001b[39;00mnet\u001b[39m.\u001b[39mname\u001b[39m}\u001b[39;00m\u001b[39m.run(\u001b[39m\u001b[39m{\u001b[39;00m\u001b[39mfloat\u001b[39m(duration)\u001b[39m!r}\u001b[39;00m\u001b[39m, \u001b[39m\u001b[39m{\u001b[39;00mreport_call\u001b[39m}\u001b[39;00m\u001b[39m,\u001b[39m\u001b[39m\"\u001b[39m\n\u001b[1;32m   1783\u001b[0m     \u001b[39mf\u001b[39m\u001b[39m\"\u001b[39m\u001b[39m \u001b[39m\u001b[39m{\u001b[39;00m\u001b[39mfloat\u001b[39m(report_period)\u001b[39m!r}\u001b[39;00m\u001b[39m);\u001b[39m\u001b[39m\"\u001b[39m\n\u001b[1;32m   1784\u001b[0m )\n\u001b[1;32m   1785\u001b[0m run_lines\u001b[39m.\u001b[39mextend(\u001b[39mself\u001b[39m\u001b[39m.\u001b[39mcode_lines[\u001b[39m\"\u001b[39m\u001b[39mafter_network_run\u001b[39m\u001b[39m\"\u001b[39m])\n",
      "\u001b[0;31mKeyError\u001b[0m: 'before_network_run'"
     ]
    }
   ],
   "source": [
    "\n",
    "brian2.set_device('genn', directory='simple_example')\n",
    "\n",
    "N = 10000\n",
    "tau = 10*brian2.ms\n",
    "Iin = 0.11/brian2.ms \n",
    "eqs = '''\n",
    "dV/dt = -V/tau + Iin : 1\n",
    "'''\n",
    "G = brian2.NeuronGroup(N, eqs, threshold='V>1', reset='V=0', refractory=5 * brian2.ms)\n",
    "\n",
    "brian2.run(10*brian2.ms)"
   ]
  },
  {
   "cell_type": "code",
   "execution_count": null,
   "metadata": {},
   "outputs": [],
   "source": []
  },
  {
   "cell_type": "code",
   "execution_count": null,
   "metadata": {},
   "outputs": [],
   "source": []
  },
  {
   "cell_type": "code",
   "execution_count": 5,
   "metadata": {},
   "outputs": [
    {
     "ename": "UndefinedError",
     "evalue": "'dict object' has no attribute 'create_j'",
     "output_type": "error",
     "traceback": [
      "\u001b[0;31m---------------------------------------------------------------------------\u001b[0m",
      "\u001b[0;31mUndefinedError\u001b[0m                            Traceback (most recent call last)",
      "Cell \u001b[0;32mIn[5], line 16\u001b[0m\n\u001b[1;32m     14\u001b[0m H \u001b[39m=\u001b[39m NeuronGroup(\u001b[39m10\u001b[39m, \u001b[39m'\u001b[39m\u001b[39mV:1\u001b[39m\u001b[39m'\u001b[39m)\n\u001b[1;32m     15\u001b[0m S \u001b[39m=\u001b[39m Synapses(H, G, post\u001b[39m=\u001b[39m\u001b[39m'\u001b[39m\u001b[39mV_pre += 1\u001b[39m\u001b[39m'\u001b[39m)\n\u001b[0;32m---> 16\u001b[0m S\u001b[39m.\u001b[39;49mconnect(j\u001b[39m=\u001b[39;49m\u001b[39m'\u001b[39;49m\u001b[39mi\u001b[39;49m\u001b[39m'\u001b[39;49m)\n\u001b[1;32m     17\u001b[0m run(\u001b[39m101\u001b[39m\u001b[39m*\u001b[39mms)\n",
      "File \u001b[0;32m~/.conda/envs/brian2/lib/python3.10/site-packages/brian2/core/base.py:335\u001b[0m, in \u001b[0;36mdevice_override.<locals>.device_override_decorator.<locals>.device_override_decorated_function\u001b[0;34m(*args, **kwds)\u001b[0m\n\u001b[1;32m    333\u001b[0m     \u001b[39mreturn\u001b[39;00m \u001b[39mgetattr\u001b[39m(curdev, name)(\u001b[39m*\u001b[39margs, \u001b[39m*\u001b[39m\u001b[39m*\u001b[39mkwds)\n\u001b[1;32m    334\u001b[0m \u001b[39melse\u001b[39;00m:\n\u001b[0;32m--> 335\u001b[0m     \u001b[39mreturn\u001b[39;00m func(\u001b[39m*\u001b[39;49margs, \u001b[39m*\u001b[39;49m\u001b[39m*\u001b[39;49mkwds)\n",
      "File \u001b[0;32m~/.conda/envs/brian2/lib/python3.10/site-packages/brian2/synapses/synapses.py:1623\u001b[0m, in \u001b[0;36mSynapses.connect\u001b[0;34m(self, condition, i, j, p, n, skip_if_invalid, namespace, level)\u001b[0m\n\u001b[1;32m   1621\u001b[0m \u001b[39melif\u001b[39;00m \u001b[39misinstance\u001b[39m(j, \u001b[39mstr\u001b[39m):\n\u001b[1;32m   1622\u001b[0m     j \u001b[39m=\u001b[39m \u001b[39mself\u001b[39m\u001b[39m.\u001b[39m_finalize_generator_expression(j, i, p, \u001b[39m\"\u001b[39m\u001b[39mj\u001b[39m\u001b[39m\"\u001b[39m, \u001b[39m\"\u001b[39m\u001b[39mi\u001b[39m\u001b[39m\"\u001b[39m)\n\u001b[0;32m-> 1623\u001b[0m     \u001b[39mself\u001b[39;49m\u001b[39m.\u001b[39;49m_add_synapses_generator(\n\u001b[1;32m   1624\u001b[0m         j,\n\u001b[1;32m   1625\u001b[0m         n,\n\u001b[1;32m   1626\u001b[0m         skip_if_invalid\u001b[39m=\u001b[39;49mskip_if_invalid,\n\u001b[1;32m   1627\u001b[0m         namespace\u001b[39m=\u001b[39;49mnamespace,\n\u001b[1;32m   1628\u001b[0m         level\u001b[39m=\u001b[39;49mlevel \u001b[39m+\u001b[39;49m \u001b[39m2\u001b[39;49m,\n\u001b[1;32m   1629\u001b[0m         over_presynaptic\u001b[39m=\u001b[39;49m\u001b[39mTrue\u001b[39;49;00m,\n\u001b[1;32m   1630\u001b[0m     )\n\u001b[1;32m   1631\u001b[0m \u001b[39melse\u001b[39;00m:\n\u001b[1;32m   1632\u001b[0m     \u001b[39mraise\u001b[39;00m \u001b[39mValueError\u001b[39;00m(\n\u001b[1;32m   1633\u001b[0m         \u001b[39m\"\u001b[39m\u001b[39mMust specify at least one of condition, i or j arguments\u001b[39m\u001b[39m\"\u001b[39m\n\u001b[1;32m   1634\u001b[0m     )\n",
      "File \u001b[0;32m~/.conda/envs/brian2/lib/python3.10/site-packages/brian2/synapses/synapses.py:2108\u001b[0m, in \u001b[0;36mSynapses._add_synapses_generator\u001b[0;34m(self, gen, n, skip_if_invalid, over_presynaptic, namespace, level)\u001b[0m\n\u001b[1;32m   2101\u001b[0m     variables\u001b[39m.\u001b[39madd_subexpression(\u001b[39m\"\u001b[39m\u001b[39mj\u001b[39m\u001b[39m\"\u001b[39m, \u001b[39m\"\u001b[39m\u001b[39m_j\u001b[39m\u001b[39m\"\u001b[39m, dtype\u001b[39m=\u001b[39m\u001b[39mself\u001b[39m\u001b[39m.\u001b[39mvariables[\u001b[39m\"\u001b[39m\u001b[39mj\u001b[39m\u001b[39m\"\u001b[39m]\u001b[39m.\u001b[39mdtype)\n\u001b[1;32m   2102\u001b[0m logger\u001b[39m.\u001b[39mdebug(\n\u001b[1;32m   2103\u001b[0m     \u001b[39mf\u001b[39m\u001b[39m\"\u001b[39m\u001b[39mCreating synapses from group \u001b[39m\u001b[39m'\u001b[39m\u001b[39m{\u001b[39;00m\u001b[39mself\u001b[39m\u001b[39m.\u001b[39msource\u001b[39m.\u001b[39mname\u001b[39m}\u001b[39;00m\u001b[39m'\u001b[39m\u001b[39m to group \u001b[39m\u001b[39m\"\u001b[39m\n\u001b[1;32m   2104\u001b[0m     \u001b[39mf\u001b[39m\u001b[39m\"\u001b[39m\u001b[39m'\u001b[39m\u001b[39m{\u001b[39;00m\u001b[39mself\u001b[39m\u001b[39m.\u001b[39mtarget\u001b[39m.\u001b[39mname\u001b[39m}\u001b[39;00m\u001b[39m'\u001b[39m\u001b[39m, using generator \u001b[39m\u001b[39m\"\u001b[39m\n\u001b[1;32m   2105\u001b[0m     \u001b[39mf\u001b[39m\u001b[39m\"\u001b[39m\u001b[39m'\u001b[39m\u001b[39m{\u001b[39;00mparsed[\u001b[39m'\u001b[39m\u001b[39moriginal_expression\u001b[39m\u001b[39m'\u001b[39m]\u001b[39m}\u001b[39;00m\u001b[39m'\u001b[39m\u001b[39m\"\u001b[39m\n\u001b[1;32m   2106\u001b[0m )\n\u001b[0;32m-> 2108\u001b[0m codeobj \u001b[39m=\u001b[39m create_runner_codeobj(\n\u001b[1;32m   2109\u001b[0m     \u001b[39mself\u001b[39;49m,\n\u001b[1;32m   2110\u001b[0m     abstract_code,\n\u001b[1;32m   2111\u001b[0m     \u001b[39m\"\u001b[39;49m\u001b[39msynapses_create_generator\u001b[39;49m\u001b[39m\"\u001b[39;49m,\n\u001b[1;32m   2112\u001b[0m     variable_indices\u001b[39m=\u001b[39;49mvariable_indices,\n\u001b[1;32m   2113\u001b[0m     additional_variables\u001b[39m=\u001b[39;49mvariables,\n\u001b[1;32m   2114\u001b[0m     template_kwds\u001b[39m=\u001b[39;49mtemplate_kwds,\n\u001b[1;32m   2115\u001b[0m     needed_variables\u001b[39m=\u001b[39;49mneeded_variables,\n\u001b[1;32m   2116\u001b[0m     check_units\u001b[39m=\u001b[39;49m\u001b[39mFalse\u001b[39;49;00m,\n\u001b[1;32m   2117\u001b[0m     run_namespace\u001b[39m=\u001b[39;49mnamespace,\n\u001b[1;32m   2118\u001b[0m )\n\u001b[1;32m   2119\u001b[0m codeobj()\n",
      "File \u001b[0;32m~/.conda/envs/brian2/lib/python3.10/site-packages/brian2/codegen/codeobject.py:471\u001b[0m, in \u001b[0;36mcreate_runner_codeobj\u001b[0;34m(group, code, template_name, run_namespace, user_code, variable_indices, name, check_units, needed_variables, additional_variables, template_kwds, override_conditional_write, codeobj_class)\u001b[0m\n\u001b[1;32m    468\u001b[0m     \u001b[39mif\u001b[39;00m var_index \u001b[39mnot\u001b[39;00m \u001b[39min\u001b[39;00m (\u001b[39m\"\u001b[39m\u001b[39m_idx\u001b[39m\u001b[39m\"\u001b[39m, \u001b[39m\"\u001b[39m\u001b[39m0\u001b[39m\u001b[39m\"\u001b[39m):\n\u001b[1;32m    469\u001b[0m         variables[var_index] \u001b[39m=\u001b[39m all_variables[var_index]\n\u001b[0;32m--> 471\u001b[0m \u001b[39mreturn\u001b[39;00m device\u001b[39m.\u001b[39;49mcode_object(\n\u001b[1;32m    472\u001b[0m     owner\u001b[39m=\u001b[39;49mgroup,\n\u001b[1;32m    473\u001b[0m     name\u001b[39m=\u001b[39;49mname,\n\u001b[1;32m    474\u001b[0m     abstract_code\u001b[39m=\u001b[39;49mcode,\n\u001b[1;32m    475\u001b[0m     variables\u001b[39m=\u001b[39;49mvariables,\n\u001b[1;32m    476\u001b[0m     template_name\u001b[39m=\u001b[39;49mtemplate_name,\n\u001b[1;32m    477\u001b[0m     variable_indices\u001b[39m=\u001b[39;49mall_variable_indices,\n\u001b[1;32m    478\u001b[0m     template_kwds\u001b[39m=\u001b[39;49mtemplate_kwds,\n\u001b[1;32m    479\u001b[0m     codeobj_class\u001b[39m=\u001b[39;49mcodeobj_class,\n\u001b[1;32m    480\u001b[0m     override_conditional_write\u001b[39m=\u001b[39;49moverride_conditional_write,\n\u001b[1;32m    481\u001b[0m     compiler_kwds\u001b[39m=\u001b[39;49mcompiler_kwds,\n\u001b[1;32m    482\u001b[0m )\n",
      "File \u001b[0;32m~/.conda/envs/brian2/lib/python3.10/site-packages/brian2genn/device.py:493\u001b[0m, in \u001b[0;36mGeNNDevice.code_object\u001b[0;34m(self, owner, name, abstract_code, variables, template_name, variable_indices, codeobj_class, template_kwds, override_conditional_write, **kwds)\u001b[0m\n\u001b[1;32m    491\u001b[0m \u001b[39melse\u001b[39;00m:\n\u001b[1;32m    492\u001b[0m     mrl_template_name\u001b[39m=\u001b[39m\u001b[39m'\u001b[39m\u001b[39mmax_row_length_array\u001b[39m\u001b[39m'\u001b[39m\n\u001b[0;32m--> 493\u001b[0m codeobj \u001b[39m=\u001b[39m \u001b[39msuper\u001b[39;49m(GeNNDevice, \u001b[39mself\u001b[39;49m)\u001b[39m.\u001b[39;49mcode_object(owner, mrl_name,\n\u001b[1;32m    494\u001b[0m                                               abstract_code,\n\u001b[1;32m    495\u001b[0m                                               variables,\n\u001b[1;32m    496\u001b[0m                                               mrl_template_name,\n\u001b[1;32m    497\u001b[0m                                               variable_indices,\n\u001b[1;32m    498\u001b[0m                                               codeobj_class\u001b[39m=\u001b[39;49mcodeobj_class,\n\u001b[1;32m    499\u001b[0m                                               template_kwds\u001b[39m=\u001b[39;49mtemplate_kwds,\n\u001b[1;32m    500\u001b[0m                                               override_conditional_write\u001b[39m=\u001b[39;49moverride_conditional_write,\n\u001b[1;32m    501\u001b[0m )\n\u001b[1;32m    502\u001b[0m \u001b[39m#self.code_objects['%s_max_row_length' % owner.name] = codeobj\u001b[39;00m\n\u001b[1;32m    503\u001b[0m \u001b[39mself\u001b[39m\u001b[39m.\u001b[39mcode_objects\u001b[39m.\u001b[39mpop(mrl_name, \u001b[39mNone\u001b[39;00m)   \u001b[39m# remove this from the normal list of code objects\u001b[39;00m\n",
      "File \u001b[0;32m~/.conda/envs/brian2/lib/python3.10/site-packages/brian2/devices/cpp_standalone/device.py:683\u001b[0m, in \u001b[0;36mCPPStandaloneDevice.code_object\u001b[0;34m(self, owner, name, abstract_code, variables, template_name, variable_indices, codeobj_class, template_kwds, override_conditional_write, compiler_kwds)\u001b[0m\n\u001b[1;32m    678\u001b[0m             cache[var] \u001b[39m=\u001b[39m np\u001b[39m.\u001b[39mappend(\n\u001b[1;32m    679\u001b[0m                 cache\u001b[39m.\u001b[39mget(var, np\u001b[39m.\u001b[39mempty(\u001b[39m0\u001b[39m, dtype\u001b[39m=\u001b[39m\u001b[39mint\u001b[39m)), value\n\u001b[1;32m    680\u001b[0m             )\n\u001b[1;32m    681\u001b[0m             do_not_invalidate\u001b[39m.\u001b[39madd(var)\n\u001b[0;32m--> 683\u001b[0m codeobj \u001b[39m=\u001b[39m \u001b[39msuper\u001b[39;49m()\u001b[39m.\u001b[39;49mcode_object(\n\u001b[1;32m    684\u001b[0m     owner,\n\u001b[1;32m    685\u001b[0m     name,\n\u001b[1;32m    686\u001b[0m     abstract_code,\n\u001b[1;32m    687\u001b[0m     variables,\n\u001b[1;32m    688\u001b[0m     template_name,\n\u001b[1;32m    689\u001b[0m     variable_indices,\n\u001b[1;32m    690\u001b[0m     codeobj_class\u001b[39m=\u001b[39;49mcodeobj_class,\n\u001b[1;32m    691\u001b[0m     template_kwds\u001b[39m=\u001b[39;49mtemplate_kwds,\n\u001b[1;32m    692\u001b[0m     override_conditional_write\u001b[39m=\u001b[39;49moverride_conditional_write,\n\u001b[1;32m    693\u001b[0m     compiler_kwds\u001b[39m=\u001b[39;49mcompiler_kwds,\n\u001b[1;32m    694\u001b[0m )\n\u001b[1;32m    695\u001b[0m \u001b[39mself\u001b[39m\u001b[39m.\u001b[39mcode_objects[codeobj\u001b[39m.\u001b[39mname] \u001b[39m=\u001b[39m codeobj\n\u001b[1;32m    696\u001b[0m \u001b[39mif\u001b[39;00m \u001b[39mself\u001b[39m\u001b[39m.\u001b[39menable_profiling:\n",
      "File \u001b[0;32m~/.conda/envs/brian2/lib/python3.10/site-packages/brian2/devices/device.py:346\u001b[0m, in \u001b[0;36mDevice.code_object\u001b[0;34m(self, owner, name, abstract_code, variables, template_name, variable_indices, codeobj_class, template_kwds, override_conditional_write, compiler_kwds)\u001b[0m\n\u001b[1;32m    339\u001b[0m logger\u001b[39m.\u001b[39mdiagnostic(\n\u001b[1;32m    340\u001b[0m     \u001b[39mf\u001b[39m\u001b[39m\"\u001b[39m\u001b[39m{\u001b[39;00mname\u001b[39m}\u001b[39;00m\u001b[39m snippet (scalar):\u001b[39m\u001b[39m\\n\u001b[39;00m\u001b[39m{\u001b[39;00mindent(code_representation(scalar_code))\u001b[39m}\u001b[39;00m\u001b[39m\"\u001b[39m\n\u001b[1;32m    341\u001b[0m )\n\u001b[1;32m    342\u001b[0m logger\u001b[39m.\u001b[39mdiagnostic(\n\u001b[1;32m    343\u001b[0m     \u001b[39mf\u001b[39m\u001b[39m\"\u001b[39m\u001b[39m{\u001b[39;00mname\u001b[39m}\u001b[39;00m\u001b[39m snippet (vector):\u001b[39m\u001b[39m\\n\u001b[39;00m\u001b[39m{\u001b[39;00mindent(code_representation(vector_code))\u001b[39m}\u001b[39;00m\u001b[39m\"\u001b[39m\n\u001b[1;32m    344\u001b[0m )\n\u001b[0;32m--> 346\u001b[0m code \u001b[39m=\u001b[39m template(\n\u001b[1;32m    347\u001b[0m     scalar_code,\n\u001b[1;32m    348\u001b[0m     vector_code,\n\u001b[1;32m    349\u001b[0m     owner\u001b[39m=\u001b[39;49mowner,\n\u001b[1;32m    350\u001b[0m     variables\u001b[39m=\u001b[39;49mvariables,\n\u001b[1;32m    351\u001b[0m     codeobj_name\u001b[39m=\u001b[39;49mname,\n\u001b[1;32m    352\u001b[0m     variable_indices\u001b[39m=\u001b[39;49mvariable_indices,\n\u001b[1;32m    353\u001b[0m     get_array_name\u001b[39m=\u001b[39;49mgenerator\u001b[39m.\u001b[39;49mget_array_name,\n\u001b[1;32m    354\u001b[0m     \u001b[39m*\u001b[39;49m\u001b[39m*\u001b[39;49mtemplate_kwds,\n\u001b[1;32m    355\u001b[0m )\n\u001b[1;32m    356\u001b[0m logger\u001b[39m.\u001b[39mdiagnostic(\u001b[39mf\u001b[39m\u001b[39m\"\u001b[39m\u001b[39m{\u001b[39;00mname\u001b[39m}\u001b[39;00m\u001b[39m code:\u001b[39m\u001b[39m\\n\u001b[39;00m\u001b[39m{\u001b[39;00mindent(code_representation(code))\u001b[39m}\u001b[39;00m\u001b[39m\"\u001b[39m)\n\u001b[1;32m    358\u001b[0m codeobj \u001b[39m=\u001b[39m codeobj_class(\n\u001b[1;32m    359\u001b[0m     owner,\n\u001b[1;32m    360\u001b[0m     code,\n\u001b[0;32m   (...)\u001b[0m\n\u001b[1;32m    366\u001b[0m     compiler_kwds\u001b[39m=\u001b[39mcompiler_kwds,\n\u001b[1;32m    367\u001b[0m )\n",
      "File \u001b[0;32m~/.conda/envs/brian2/lib/python3.10/site-packages/brian2/codegen/templates.py:251\u001b[0m, in \u001b[0;36mCodeObjectTemplate.__call__\u001b[0;34m(self, scalar_code, vector_code, **kwds)\u001b[0m\n\u001b[1;32m    249\u001b[0m kwds[\u001b[39m\"\u001b[39m\u001b[39mscalar_code\u001b[39m\u001b[39m\"\u001b[39m] \u001b[39m=\u001b[39m scalar_code\n\u001b[1;32m    250\u001b[0m kwds[\u001b[39m\"\u001b[39m\u001b[39mvector_code\u001b[39m\u001b[39m\"\u001b[39m] \u001b[39m=\u001b[39m vector_code\n\u001b[0;32m--> 251\u001b[0m module \u001b[39m=\u001b[39m \u001b[39mself\u001b[39;49m\u001b[39m.\u001b[39;49mtemplate\u001b[39m.\u001b[39;49mmake_module(kwds)\n\u001b[1;32m    252\u001b[0m \u001b[39mif\u001b[39;00m \u001b[39mlen\u001b[39m([k \u001b[39mfor\u001b[39;00m k \u001b[39min\u001b[39;00m module\u001b[39m.\u001b[39m\u001b[39m__dict__\u001b[39m \u001b[39mif\u001b[39;00m \u001b[39mnot\u001b[39;00m k\u001b[39m.\u001b[39mstartswith(\u001b[39m\"\u001b[39m\u001b[39m_\u001b[39m\u001b[39m\"\u001b[39m)]):\n\u001b[1;32m    253\u001b[0m     \u001b[39mreturn\u001b[39;00m MultiTemplate(module)\n",
      "File \u001b[0;32m~/.conda/envs/brian2/lib/python3.10/site-packages/jinja2/environment.py:1405\u001b[0m, in \u001b[0;36mTemplate.make_module\u001b[0;34m(self, vars, shared, locals)\u001b[0m\n\u001b[1;32m   1398\u001b[0m \u001b[39m\u001b[39m\u001b[39m\"\"\"This method works like the :attr:`module` attribute when called\u001b[39;00m\n\u001b[1;32m   1399\u001b[0m \u001b[39mwithout arguments but it will evaluate the template on every call\u001b[39;00m\n\u001b[1;32m   1400\u001b[0m \u001b[39mrather than caching it.  It's also possible to provide\u001b[39;00m\n\u001b[1;32m   1401\u001b[0m \u001b[39ma dict which is then used as context.  The arguments are the same\u001b[39;00m\n\u001b[1;32m   1402\u001b[0m \u001b[39mas for the :meth:`new_context` method.\u001b[39;00m\n\u001b[1;32m   1403\u001b[0m \u001b[39m\"\"\"\u001b[39;00m\n\u001b[1;32m   1404\u001b[0m ctx \u001b[39m=\u001b[39m \u001b[39mself\u001b[39m\u001b[39m.\u001b[39mnew_context(\u001b[39mvars\u001b[39m, shared, \u001b[39mlocals\u001b[39m)\n\u001b[0;32m-> 1405\u001b[0m \u001b[39mreturn\u001b[39;00m TemplateModule(\u001b[39mself\u001b[39;49m, ctx)\n",
      "File \u001b[0;32m~/.conda/envs/brian2/lib/python3.10/site-packages/jinja2/environment.py:1535\u001b[0m, in \u001b[0;36mTemplateModule.__init__\u001b[0;34m(self, template, context, body_stream)\u001b[0m\n\u001b[1;32m   1528\u001b[0m     \u001b[39mif\u001b[39;00m context\u001b[39m.\u001b[39menvironment\u001b[39m.\u001b[39mis_async:\n\u001b[1;32m   1529\u001b[0m         \u001b[39mraise\u001b[39;00m \u001b[39mRuntimeError\u001b[39;00m(\n\u001b[1;32m   1530\u001b[0m             \u001b[39m\"\u001b[39m\u001b[39mAsync mode requires a body stream to be passed to\u001b[39m\u001b[39m\"\u001b[39m\n\u001b[1;32m   1531\u001b[0m             \u001b[39m\"\u001b[39m\u001b[39m a template module. Use the async methods of the\u001b[39m\u001b[39m\"\u001b[39m\n\u001b[1;32m   1532\u001b[0m             \u001b[39m\"\u001b[39m\u001b[39m API you are using.\u001b[39m\u001b[39m\"\u001b[39m\n\u001b[1;32m   1533\u001b[0m         )\n\u001b[0;32m-> 1535\u001b[0m     body_stream \u001b[39m=\u001b[39m \u001b[39mlist\u001b[39;49m(template\u001b[39m.\u001b[39;49mroot_render_func(context))  \u001b[39m# type: ignore\u001b[39;00m\n\u001b[1;32m   1537\u001b[0m \u001b[39mself\u001b[39m\u001b[39m.\u001b[39m_body_stream \u001b[39m=\u001b[39m body_stream\n\u001b[1;32m   1538\u001b[0m \u001b[39mself\u001b[39m\u001b[39m.\u001b[39m\u001b[39m__dict__\u001b[39m\u001b[39m.\u001b[39mupdate(context\u001b[39m.\u001b[39mget_exported())\n",
      "File \u001b[0;32m~/.conda/envs/brian2/lib/python3.10/site-packages/brian2genn/templates/max_row_length_generator.cpp:56\u001b[0m, in \u001b[0;36mroot\u001b[0;34m(context, missing, environment)\u001b[0m\n\u001b[1;32m     54\u001b[0m {\n\u001b[1;32m     55\u001b[0m     {{vector_code['create_cond']|autoindent}}\n\u001b[0;32m---> 56\u001b[0m     __cond = _cond;\n\u001b[1;32m     57\u001b[0m }\n\u001b[1;32m     58\u001b[0m _cond = __cond;\n",
      "File \u001b[0;32m~/.conda/envs/brian2/lib/python3.10/site-packages/brian2/codegen/templates.py:26\u001b[0m, in \u001b[0;36mautoindent\u001b[0;34m(code)\u001b[0m\n\u001b[1;32m     24\u001b[0m \u001b[39mif\u001b[39;00m \u001b[39misinstance\u001b[39m(code, \u001b[39mlist\u001b[39m):\n\u001b[1;32m     25\u001b[0m     code \u001b[39m=\u001b[39m \u001b[39m\"\u001b[39m\u001b[39m\\n\u001b[39;00m\u001b[39m\"\u001b[39m\u001b[39m.\u001b[39mjoin(code)\n\u001b[0;32m---> 26\u001b[0m \u001b[39mif\u001b[39;00m \u001b[39mnot\u001b[39;00m code\u001b[39m.\u001b[39;49mstartswith(\u001b[39m\"\u001b[39m\u001b[39m\\n\u001b[39;00m\u001b[39m\"\u001b[39m):\n\u001b[1;32m     27\u001b[0m     code \u001b[39m=\u001b[39m \u001b[39mf\u001b[39m\u001b[39m\"\u001b[39m\u001b[39m\\n\u001b[39;00m\u001b[39m{\u001b[39;00mcode\u001b[39m}\u001b[39;00m\u001b[39m\"\u001b[39m\n\u001b[1;32m     28\u001b[0m \u001b[39mif\u001b[39;00m \u001b[39mnot\u001b[39;00m code\u001b[39m.\u001b[39mendswith(\u001b[39m\"\u001b[39m\u001b[39m\\n\u001b[39;00m\u001b[39m\"\u001b[39m):\n",
      "File \u001b[0;32m~/.conda/envs/brian2/lib/python3.10/site-packages/jinja2/runtime.py:859\u001b[0m, in \u001b[0;36mUndefined.__getattr__\u001b[0;34m(self, name)\u001b[0m\n\u001b[1;32m    856\u001b[0m \u001b[39mif\u001b[39;00m name[:\u001b[39m2\u001b[39m] \u001b[39m==\u001b[39m \u001b[39m\"\u001b[39m\u001b[39m__\u001b[39m\u001b[39m\"\u001b[39m:\n\u001b[1;32m    857\u001b[0m     \u001b[39mraise\u001b[39;00m \u001b[39mAttributeError\u001b[39;00m(name)\n\u001b[0;32m--> 859\u001b[0m \u001b[39mreturn\u001b[39;00m \u001b[39mself\u001b[39;49m\u001b[39m.\u001b[39;49m_fail_with_undefined_error()\n",
      "File \u001b[0;32m~/.conda/envs/brian2/lib/python3.10/site-packages/jinja2/runtime.py:852\u001b[0m, in \u001b[0;36mUndefined._fail_with_undefined_error\u001b[0;34m(self, *args, **kwargs)\u001b[0m\n\u001b[1;32m    845\u001b[0m \u001b[39m@internalcode\u001b[39m\n\u001b[1;32m    846\u001b[0m \u001b[39mdef\u001b[39;00m \u001b[39m_fail_with_undefined_error\u001b[39m(\n\u001b[1;32m    847\u001b[0m     \u001b[39mself\u001b[39m, \u001b[39m*\u001b[39margs: t\u001b[39m.\u001b[39mAny, \u001b[39m*\u001b[39m\u001b[39m*\u001b[39mkwargs: t\u001b[39m.\u001b[39mAny\n\u001b[1;32m    848\u001b[0m ) \u001b[39m-\u001b[39m\u001b[39m>\u001b[39m \u001b[39m\"\u001b[39m\u001b[39mte.NoReturn\u001b[39m\u001b[39m\"\u001b[39m:\n\u001b[1;32m    849\u001b[0m \u001b[39m    \u001b[39m\u001b[39m\"\"\"Raise an :exc:`UndefinedError` when operations are performed\u001b[39;00m\n\u001b[1;32m    850\u001b[0m \u001b[39m    on the undefined value.\u001b[39;00m\n\u001b[1;32m    851\u001b[0m \u001b[39m    \"\"\"\u001b[39;00m\n\u001b[0;32m--> 852\u001b[0m     \u001b[39mraise\u001b[39;00m \u001b[39mself\u001b[39m\u001b[39m.\u001b[39m_undefined_exception(\u001b[39mself\u001b[39m\u001b[39m.\u001b[39m_undefined_message)\n",
      "\u001b[0;31mUndefinedError\u001b[0m: 'dict object' has no attribute 'create_j'"
     ]
    }
   ],
   "source": [
    "from brian2 import *\n",
    "import brian2genn\n",
    "\n",
    "set_device('genn')#, directory='shortEx')\n",
    "#set_device('cpp_standalone')\n",
    "\n",
    "tau = 5*ms\n",
    "eqs = '''\n",
    "dV/dt = k/tau : 1\n",
    "k : 1\n",
    "'''\n",
    "G = NeuronGroup(10, eqs, threshold='V>1', reset='V=0')\n",
    "G.k = linspace(1, 5, len(G))\n",
    "H = NeuronGroup(10, 'V:1')\n",
    "S = Synapses(H, G, post='V_pre += 1')\n",
    "S.connect(j='i')\n",
    "run(101*ms)"
   ]
  },
  {
   "cell_type": "code",
   "execution_count": null,
   "metadata": {},
   "outputs": [],
   "source": []
  },
  {
   "cell_type": "code",
   "execution_count": null,
   "metadata": {},
   "outputs": [],
   "source": []
  },
  {
   "cell_type": "code",
   "execution_count": null,
   "metadata": {},
   "outputs": [],
   "source": []
  },
  {
   "cell_type": "code",
   "execution_count": null,
   "metadata": {},
   "outputs": [],
   "source": []
  },
  {
   "cell_type": "code",
   "execution_count": null,
   "metadata": {},
   "outputs": [],
   "source": []
  }
 ],
 "metadata": {
  "kernelspec": {
   "display_name": "brian2",
   "language": "python",
   "name": "python3"
  },
  "language_info": {
   "codemirror_mode": {
    "name": "ipython",
    "version": 3
   },
   "file_extension": ".py",
   "mimetype": "text/x-python",
   "name": "python",
   "nbconvert_exporter": "python",
   "pygments_lexer": "ipython3",
   "version": "3.10.0"
  },
  "orig_nbformat": 4
 },
 "nbformat": 4,
 "nbformat_minor": 2
}
