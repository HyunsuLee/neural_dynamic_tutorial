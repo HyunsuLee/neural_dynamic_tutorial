{
 "cells": [
  {
   "cell_type": "markdown",
   "metadata": {},
   "source": [
    "## Neurons\n",
    "* https://brian2.readthedocs.io/en/stable/resources/tutorials/1-intro-to-brian-neurons.html\n",
    "* brian2를 부를 때 '''from brian2 import *''' 를 사용한다. 그 이유는 volt, ms등 단위를 사용할 때 brian2.를 붙이지 않아도 되기 때문이다.\n",
    "* Gerstner tutorial에서는 b2로 축약해서 쓴다.\n"
   ]
  },
  {
   "cell_type": "code",
   "execution_count": 2,
   "metadata": {},
   "outputs": [],
   "source": [
    "from brian2 import *\n",
    "%matplotlib inline"
   ]
  },
  {
   "cell_type": "markdown",
   "metadata": {},
   "source": [
    "### Units system"
   ]
  },
  {
   "cell_type": "code",
   "execution_count": 4,
   "metadata": {},
   "outputs": [
    {
     "data": {
      "text/latex": [
       "$20.0\\,\\mathrm{V}$"
      ],
      "text/plain": [
       "20. * volt"
      ]
     },
     "execution_count": 4,
     "metadata": {},
     "output_type": "execute_result"
    }
   ],
   "source": [
    "20*volt"
   ]
  },
  {
   "cell_type": "code",
   "execution_count": 6,
   "metadata": {},
   "outputs": [
    {
     "data": {
      "text/latex": [
       "$1.0\\,\\mathrm{k}\\mathrm{A}$"
      ],
      "text/plain": [
       "1. * kamp"
      ]
     },
     "execution_count": 6,
     "metadata": {},
     "output_type": "execute_result"
    }
   ],
   "source": [
    "1000*amp"
   ]
  },
  {
   "cell_type": "code",
   "execution_count": 7,
   "metadata": {},
   "outputs": [
    {
     "data": {
      "text/latex": [
       "$1.0\\,\\mathrm{M}\\mathrm{V}$"
      ],
      "text/plain": [
       "1. * Mvolt"
      ]
     },
     "execution_count": 7,
     "metadata": {},
     "output_type": "execute_result"
    }
   ],
   "source": [
    "1e6*volt"
   ]
  },
  {
   "cell_type": "code",
   "execution_count": 9,
   "metadata": {},
   "outputs": [
    {
     "data": {
      "text/latex": [
       "$1.0000000000000002\\,\\mathrm{\\mu}\\mathrm{A}$"
      ],
      "text/plain": [
       "1. * uamp"
      ]
     },
     "execution_count": 9,
     "metadata": {},
     "output_type": "execute_result"
    }
   ],
   "source": [
    "1000*namp"
   ]
  },
  {
   "cell_type": "code",
   "execution_count": 10,
   "metadata": {},
   "outputs": [
    {
     "data": {
      "text/latex": [
       "$1.0\\,\\mathrm{n}\\mathrm{A}$"
      ],
      "text/plain": [
       "1. * namp"
      ]
     },
     "execution_count": 10,
     "metadata": {},
     "output_type": "execute_result"
    }
   ],
   "source": [
    "1*namp"
   ]
  },
  {
   "cell_type": "code",
   "execution_count": 11,
   "metadata": {},
   "outputs": [
    {
     "data": {
      "text/latex": [
       "$49.99999999999999\\,\\mathrm{m}\\mathrm{V}$"
      ],
      "text/plain": [
       "50. * mvolt"
      ]
     },
     "execution_count": 11,
     "metadata": {},
     "output_type": "execute_result"
    }
   ],
   "source": [
    "10*nA*5*Mohm # 10 nA through a 5 MOhm resistor -> 50mV"
   ]
  },
  {
   "cell_type": "code",
   "execution_count": 12,
   "metadata": {},
   "outputs": [
    {
     "ename": "DimensionMismatchError",
     "evalue": "Cannot calculate 5. A + 10. V, units do not match (units are A and V).",
     "output_type": "error",
     "traceback": [
      "\u001b[0;31m---------------------------------------------------------------------------\u001b[0m",
      "\u001b[0;31mDimensionMismatchError\u001b[0m                    Traceback (most recent call last)",
      "Cell \u001b[0;32mIn[12], line 1\u001b[0m\n\u001b[0;32m----> 1\u001b[0m \u001b[39m5\u001b[39;49m\u001b[39m*\u001b[39;49mamp \u001b[39m+\u001b[39;49m \u001b[39m10\u001b[39;49m\u001b[39m*\u001b[39;49mvolt\n",
      "File \u001b[0;32m~/.conda/envs/brian2/lib/python3.10/site-packages/brian2/units/fundamentalunits.py:1605\u001b[0m, in \u001b[0;36mQuantity.__add__\u001b[0;34m(self, other)\u001b[0m\n\u001b[1;32m   1604\u001b[0m \u001b[39mdef\u001b[39;00m \u001b[39m__add__\u001b[39m(\u001b[39mself\u001b[39m, other):\n\u001b[0;32m-> 1605\u001b[0m     \u001b[39mreturn\u001b[39;00m \u001b[39mself\u001b[39;49m\u001b[39m.\u001b[39;49m_binary_operation(\n\u001b[1;32m   1606\u001b[0m         other, operator\u001b[39m.\u001b[39;49madd, fail_for_mismatch\u001b[39m=\u001b[39;49m\u001b[39mTrue\u001b[39;49;00m, operator_str\u001b[39m=\u001b[39;49m\u001b[39m\"\u001b[39;49m\u001b[39m+\u001b[39;49m\u001b[39m\"\u001b[39;49m\n\u001b[1;32m   1607\u001b[0m     )\n",
      "File \u001b[0;32m~/.conda/envs/brian2/lib/python3.10/site-packages/brian2/units/fundamentalunits.py:1542\u001b[0m, in \u001b[0;36mQuantity._binary_operation\u001b[0;34m(self, other, operation, dim_operation, fail_for_mismatch, operator_str, inplace)\u001b[0m\n\u001b[1;32m   1537\u001b[0m     \u001b[39melse\u001b[39;00m:\n\u001b[1;32m   1538\u001b[0m         message \u001b[39m=\u001b[39m (\n\u001b[1;32m   1539\u001b[0m             \u001b[39m\"\u001b[39m\u001b[39mCannot calculate \u001b[39m\u001b[39m{value1}\u001b[39;00m\u001b[39m \u001b[39m\u001b[39m%s\u001b[39;00m\u001b[39m \u001b[39m\u001b[39m{value2}\u001b[39;00m\u001b[39m, units do not match\u001b[39m\u001b[39m\"\u001b[39m\n\u001b[1;32m   1540\u001b[0m             \u001b[39m%\u001b[39m operator_str\n\u001b[1;32m   1541\u001b[0m         )\n\u001b[0;32m-> 1542\u001b[0m         _, other_dim \u001b[39m=\u001b[39m fail_for_dimension_mismatch(\n\u001b[1;32m   1543\u001b[0m             \u001b[39mself\u001b[39;49m, other, message, value1\u001b[39m=\u001b[39;49m\u001b[39mself\u001b[39;49m, value2\u001b[39m=\u001b[39;49mother\n\u001b[1;32m   1544\u001b[0m         )\n\u001b[1;32m   1546\u001b[0m \u001b[39mif\u001b[39;00m other_dim \u001b[39mis\u001b[39;00m \u001b[39mNone\u001b[39;00m:\n\u001b[1;32m   1547\u001b[0m     other_dim \u001b[39m=\u001b[39m get_dimensions(other)\n",
      "File \u001b[0;32m~/.conda/envs/brian2/lib/python3.10/site-packages/brian2/units/fundamentalunits.py:260\u001b[0m, in \u001b[0;36mfail_for_dimension_mismatch\u001b[0;34m(obj1, obj2, error_message, **error_quantities)\u001b[0m\n\u001b[1;32m    258\u001b[0m         \u001b[39mraise\u001b[39;00m DimensionMismatchError(error_message, dim1)\n\u001b[1;32m    259\u001b[0m     \u001b[39melse\u001b[39;00m:\n\u001b[0;32m--> 260\u001b[0m         \u001b[39mraise\u001b[39;00m DimensionMismatchError(error_message, dim1, dim2)\n\u001b[1;32m    261\u001b[0m \u001b[39melse\u001b[39;00m:\n\u001b[1;32m    262\u001b[0m     \u001b[39mreturn\u001b[39;00m dim1, dim2\n",
      "\u001b[0;31mDimensionMismatchError\u001b[0m: Cannot calculate 5. A + 10. V, units do not match (units are A and V)."
     ]
    }
   ],
   "source": [
    "5*amp + 10*volt #error"
   ]
  },
  {
   "cell_type": "markdown",
   "metadata": {},
   "source": [
    "### Simple neuron model"
   ]
  },
  {
   "cell_type": "code",
   "execution_count": 15,
   "metadata": {},
   "outputs": [],
   "source": [
    "tau = 10*ms\n",
    "eqs = '''\n",
    "dv/dt = (1-v)/tau : 1 # unit for v\n",
    "'''"
   ]
  },
  {
   "cell_type": "markdown",
   "metadata": {},
   "source": [
    "* At the end of a line you write : unit where unit is the SI unit of that variable. Note that this is not the unit of the two sides of the equation (which would be 1/second), but the unit of the variable defined by the equation, i.e. in this case 𝑣. "
   ]
  },
  {
   "cell_type": "code",
   "execution_count": 17,
   "metadata": {},
   "outputs": [],
   "source": [
    "G = NeuronGroup(1, eqs) # one neuron with eqs as equations"
   ]
  },
  {
   "cell_type": "code",
   "execution_count": 18,
   "metadata": {},
   "outputs": [
    {
     "ename": "BrianObjectException",
     "evalue": "Error encountered with object named 'neurongroup_2'.\nObject was created here (most recent call only, full details in debug log):\n  File '/tmp/ipykernel_31765/2653720013.py', line 4, in <module>\n    G = NeuronGroup(1, eqs)\n\nAn error occurred when preparing an object. (See above for original error message and traceback.)",
     "output_type": "error",
     "traceback": [
      "\u001b[0;31m---------------------------------------------------------------------------\u001b[0m",
      "\u001b[0;31mDimensionMismatchError\u001b[0m                    Traceback (most recent call last)",
      "File \u001b[0;32m~/.conda/envs/brian2/lib/python3.10/site-packages/brian2/equations/equations.py:1176\u001b[0m, in \u001b[0;36mEquations.check_units\u001b[0;34m(self, group, run_namespace)\u001b[0m\n\u001b[1;32m   1175\u001b[0m \u001b[39mtry\u001b[39;00m:\n\u001b[0;32m-> 1176\u001b[0m     check_dimensions(\n\u001b[1;32m   1177\u001b[0m         \u001b[39mstr\u001b[39;49m(eq\u001b[39m.\u001b[39;49mexpr), \u001b[39mself\u001b[39;49m\u001b[39m.\u001b[39;49mdimensions[var] \u001b[39m/\u001b[39;49m second\u001b[39m.\u001b[39;49mdim, all_variables\n\u001b[1;32m   1178\u001b[0m     )\n\u001b[1;32m   1179\u001b[0m \u001b[39mexcept\u001b[39;00m DimensionMismatchError \u001b[39mas\u001b[39;00m ex:\n",
      "File \u001b[0;32m~/.conda/envs/brian2/lib/python3.10/site-packages/brian2/equations/unitcheck.py:46\u001b[0m, in \u001b[0;36mcheck_dimensions\u001b[0;34m(expression, dimensions, variables)\u001b[0m\n\u001b[1;32m     43\u001b[0m err_msg \u001b[39m=\u001b[39m (\n\u001b[1;32m     44\u001b[0m     \u001b[39mf\u001b[39m\u001b[39m\"\u001b[39m\u001b[39mExpression \u001b[39m\u001b[39m'\u001b[39m\u001b[39m{\u001b[39;00mexpression\u001b[39m.\u001b[39mstrip()\u001b[39m}\u001b[39;00m\u001b[39m'\u001b[39m\u001b[39m does not have the expected unit \u001b[39m\u001b[39m{\u001b[39;00mexpected\u001b[39m}\u001b[39;00m\u001b[39m\"\u001b[39m\n\u001b[1;32m     45\u001b[0m )\n\u001b[0;32m---> 46\u001b[0m fail_for_dimension_mismatch(expr_dims, dimensions, err_msg)\n",
      "File \u001b[0;32m~/.conda/envs/brian2/lib/python3.10/site-packages/brian2/units/fundamentalunits.py:258\u001b[0m, in \u001b[0;36mfail_for_dimension_mismatch\u001b[0;34m(obj1, obj2, error_message, **error_quantities)\u001b[0m\n\u001b[1;32m    257\u001b[0m \u001b[39mif\u001b[39;00m obj2 \u001b[39mis\u001b[39;00m \u001b[39mNone\u001b[39;00m \u001b[39mor\u001b[39;00m \u001b[39misinstance\u001b[39m(obj2, (Dimension, Unit)):\n\u001b[0;32m--> 258\u001b[0m     \u001b[39mraise\u001b[39;00m DimensionMismatchError(error_message, dim1)\n\u001b[1;32m    259\u001b[0m \u001b[39melse\u001b[39;00m:\n",
      "\u001b[0;31mDimensionMismatchError\u001b[0m: Expression '1-v' does not have the expected unit hertz (unit is 1).",
      "\nThe above exception was the direct cause of the following exception:\n",
      "\u001b[0;31mDimensionMismatchError\u001b[0m                    Traceback (most recent call last)",
      "File \u001b[0;32m~/.conda/envs/brian2/lib/python3.10/site-packages/brian2/core/network.py:996\u001b[0m, in \u001b[0;36mNetwork.before_run\u001b[0;34m(self, run_namespace)\u001b[0m\n\u001b[1;32m    995\u001b[0m \u001b[39mtry\u001b[39;00m:\n\u001b[0;32m--> 996\u001b[0m     obj\u001b[39m.\u001b[39;49mbefore_run(run_namespace)\n\u001b[1;32m    997\u001b[0m \u001b[39mexcept\u001b[39;00m \u001b[39mException\u001b[39;00m \u001b[39mas\u001b[39;00m ex:\n",
      "File \u001b[0;32m~/.conda/envs/brian2/lib/python3.10/site-packages/brian2/groups/neurongroup.py:990\u001b[0m, in \u001b[0;36mNeuronGroup.before_run\u001b[0;34m(self, run_namespace)\u001b[0m\n\u001b[1;32m    988\u001b[0m \u001b[39mdef\u001b[39;00m \u001b[39mbefore_run\u001b[39m(\u001b[39mself\u001b[39m, run_namespace\u001b[39m=\u001b[39m\u001b[39mNone\u001b[39;00m):\n\u001b[1;32m    989\u001b[0m     \u001b[39m# Check units\u001b[39;00m\n\u001b[0;32m--> 990\u001b[0m     \u001b[39mself\u001b[39;49m\u001b[39m.\u001b[39;49mequations\u001b[39m.\u001b[39;49mcheck_units(\u001b[39mself\u001b[39;49m, run_namespace\u001b[39m=\u001b[39;49mrun_namespace)\n\u001b[1;32m    991\u001b[0m     \u001b[39m# Check that subexpressions that refer to stateful functions are labeled\u001b[39;00m\n\u001b[1;32m    992\u001b[0m     \u001b[39m# as \"constant over dt\"\u001b[39;00m\n",
      "File \u001b[0;32m~/.conda/envs/brian2/lib/python3.10/site-packages/brian2/equations/equations.py:1180\u001b[0m, in \u001b[0;36mEquations.check_units\u001b[0;34m(self, group, run_namespace)\u001b[0m\n\u001b[1;32m   1179\u001b[0m     \u001b[39mexcept\u001b[39;00m DimensionMismatchError \u001b[39mas\u001b[39;00m ex:\n\u001b[0;32m-> 1180\u001b[0m         \u001b[39mraise\u001b[39;00m DimensionMismatchError(\n\u001b[1;32m   1181\u001b[0m             \u001b[39m\"\u001b[39m\u001b[39mInconsistent units in \u001b[39m\u001b[39m\"\u001b[39m\n\u001b[1;32m   1182\u001b[0m             \u001b[39m\"\u001b[39m\u001b[39mdifferential equation \u001b[39m\u001b[39m\"\u001b[39m\n\u001b[1;32m   1183\u001b[0m             \u001b[39mf\u001b[39m\u001b[39m\"\u001b[39m\u001b[39mdefining variable \u001b[39m\u001b[39m'\u001b[39m\u001b[39m{\u001b[39;00meq\u001b[39m.\u001b[39mvarname\u001b[39m}\u001b[39;00m\u001b[39m'\u001b[39m\u001b[39m:\u001b[39m\u001b[39m\"\u001b[39m\n\u001b[1;32m   1184\u001b[0m             \u001b[39mf\u001b[39m\u001b[39m\"\u001b[39m\u001b[39m\\n\u001b[39;00m\u001b[39m{\u001b[39;00mex\u001b[39m.\u001b[39mdesc\u001b[39m}\u001b[39;00m\u001b[39m\"\u001b[39m,\n\u001b[1;32m   1185\u001b[0m             \u001b[39m*\u001b[39mex\u001b[39m.\u001b[39mdims,\n\u001b[1;32m   1186\u001b[0m         ) \u001b[39mfrom\u001b[39;00m \u001b[39mex\u001b[39;00m\n\u001b[1;32m   1187\u001b[0m \u001b[39melif\u001b[39;00m eq\u001b[39m.\u001b[39mtype \u001b[39m==\u001b[39m SUBEXPRESSION:\n",
      "\u001b[0;31mDimensionMismatchError\u001b[0m: Inconsistent units in differential equation defining variable 'v':\nExpression '1-v' does not have the expected unit hertz (unit is 1).",
      "\nThe above exception was the direct cause of the following exception:\n",
      "\u001b[0;31mBrianObjectException\u001b[0m                      Traceback (most recent call last)",
      "Cell \u001b[0;32mIn[18], line 5\u001b[0m\n\u001b[1;32m      1\u001b[0m eqs \u001b[39m=\u001b[39m \u001b[39m'''\u001b[39m\n\u001b[1;32m      2\u001b[0m \u001b[39mdv/dt = 1-v : 1\u001b[39m\n\u001b[1;32m      3\u001b[0m \u001b[39m'''\u001b[39m\n\u001b[1;32m      4\u001b[0m G \u001b[39m=\u001b[39m NeuronGroup(\u001b[39m1\u001b[39m, eqs)\n\u001b[0;32m----> 5\u001b[0m run(\u001b[39m100\u001b[39;49m\u001b[39m*\u001b[39;49mms)\n",
      "File \u001b[0;32m~/.conda/envs/brian2/lib/python3.10/site-packages/brian2/units/fundamentalunits.py:2780\u001b[0m, in \u001b[0;36mcheck_units.<locals>.do_check_units.<locals>.new_f\u001b[0;34m(*args, **kwds)\u001b[0m\n\u001b[1;32m   2770\u001b[0m             error_message \u001b[39m=\u001b[39m (\n\u001b[1;32m   2771\u001b[0m                 \u001b[39mf\u001b[39m\u001b[39m\"\u001b[39m\u001b[39mFunction \u001b[39m\u001b[39m'\u001b[39m\u001b[39m{\u001b[39;00mf\u001b[39m.\u001b[39m\u001b[39m__name__\u001b[39m\u001b[39m}\u001b[39;00m\u001b[39m'\u001b[39m\u001b[39m \u001b[39m\u001b[39m\"\u001b[39m\n\u001b[1;32m   2772\u001b[0m                 \u001b[39m\"\u001b[39m\u001b[39mexpected a quantitity with unit \u001b[39m\u001b[39m\"\u001b[39m\n\u001b[1;32m   2773\u001b[0m                 \u001b[39mf\u001b[39m\u001b[39m\"\u001b[39m\u001b[39m{\u001b[39;00munit\u001b[39m}\u001b[39;00m\u001b[39m for argument \u001b[39m\u001b[39m'\u001b[39m\u001b[39m{\u001b[39;00mk\u001b[39m}\u001b[39;00m\u001b[39m'\u001b[39m\u001b[39m but got \u001b[39m\u001b[39m\"\u001b[39m\n\u001b[1;32m   2774\u001b[0m                 \u001b[39mf\u001b[39m\u001b[39m\"\u001b[39m\u001b[39m'\u001b[39m\u001b[39m{\u001b[39;00mvalue\u001b[39m}\u001b[39;00m\u001b[39m'\u001b[39m\u001b[39m\"\u001b[39m\n\u001b[1;32m   2775\u001b[0m             )\n\u001b[1;32m   2776\u001b[0m             \u001b[39mraise\u001b[39;00m DimensionMismatchError(\n\u001b[1;32m   2777\u001b[0m                 error_message, get_dimensions(newkeyset[k])\n\u001b[1;32m   2778\u001b[0m             )\n\u001b[0;32m-> 2780\u001b[0m result \u001b[39m=\u001b[39m f(\u001b[39m*\u001b[39;49margs, \u001b[39m*\u001b[39;49m\u001b[39m*\u001b[39;49mkwds)\n\u001b[1;32m   2781\u001b[0m \u001b[39mif\u001b[39;00m \u001b[39m\"\u001b[39m\u001b[39mresult\u001b[39m\u001b[39m\"\u001b[39m \u001b[39min\u001b[39;00m au:\n\u001b[1;32m   2782\u001b[0m     \u001b[39mif\u001b[39;00m \u001b[39misinstance\u001b[39m(au[\u001b[39m\"\u001b[39m\u001b[39mresult\u001b[39m\u001b[39m\"\u001b[39m], Callable) \u001b[39mand\u001b[39;00m au[\u001b[39m\"\u001b[39m\u001b[39mresult\u001b[39m\u001b[39m\"\u001b[39m] \u001b[39m!=\u001b[39m \u001b[39mbool\u001b[39m:\n",
      "File \u001b[0;32m~/.conda/envs/brian2/lib/python3.10/site-packages/brian2/core/magic.py:407\u001b[0m, in \u001b[0;36mrun\u001b[0;34m(duration, report, report_period, namespace, profile, level)\u001b[0m\n\u001b[1;32m    334\u001b[0m \u001b[39m@check_units\u001b[39m(duration\u001b[39m=\u001b[39msecond, report_period\u001b[39m=\u001b[39msecond)\n\u001b[1;32m    335\u001b[0m \u001b[39mdef\u001b[39;00m \u001b[39mrun\u001b[39m(\n\u001b[1;32m    336\u001b[0m     duration,\n\u001b[0;32m   (...)\u001b[0m\n\u001b[1;32m    341\u001b[0m     level\u001b[39m=\u001b[39m\u001b[39m0\u001b[39m,\n\u001b[1;32m    342\u001b[0m ):\n\u001b[1;32m    343\u001b[0m \u001b[39m    \u001b[39m\u001b[39m\"\"\"\u001b[39;00m\n\u001b[1;32m    344\u001b[0m \u001b[39m    run(duration, report=None, report_period=10*second, namespace=None, level=0)\u001b[39;00m\n\u001b[1;32m    345\u001b[0m \n\u001b[0;32m   (...)\u001b[0m\n\u001b[1;32m    405\u001b[0m \u001b[39m        intended use. See `MagicNetwork` for more details.\u001b[39;00m\n\u001b[1;32m    406\u001b[0m \u001b[39m    \"\"\"\u001b[39;00m\n\u001b[0;32m--> 407\u001b[0m     \u001b[39mreturn\u001b[39;00m magic_network\u001b[39m.\u001b[39;49mrun(\n\u001b[1;32m    408\u001b[0m         duration,\n\u001b[1;32m    409\u001b[0m         report\u001b[39m=\u001b[39;49mreport,\n\u001b[1;32m    410\u001b[0m         report_period\u001b[39m=\u001b[39;49mreport_period,\n\u001b[1;32m    411\u001b[0m         namespace\u001b[39m=\u001b[39;49mnamespace,\n\u001b[1;32m    412\u001b[0m         profile\u001b[39m=\u001b[39;49mprofile,\n\u001b[1;32m    413\u001b[0m         level\u001b[39m=\u001b[39;49m\u001b[39m2\u001b[39;49m \u001b[39m+\u001b[39;49m level,\n\u001b[1;32m    414\u001b[0m     )\n",
      "File \u001b[0;32m~/.conda/envs/brian2/lib/python3.10/site-packages/brian2/core/magic.py:248\u001b[0m, in \u001b[0;36mMagicNetwork.run\u001b[0;34m(self, duration, report, report_period, namespace, profile, level)\u001b[0m\n\u001b[1;32m    238\u001b[0m \u001b[39mdef\u001b[39;00m \u001b[39mrun\u001b[39m(\n\u001b[1;32m    239\u001b[0m     \u001b[39mself\u001b[39m,\n\u001b[1;32m    240\u001b[0m     duration,\n\u001b[0;32m   (...)\u001b[0m\n\u001b[1;32m    245\u001b[0m     level\u001b[39m=\u001b[39m\u001b[39m0\u001b[39m,\n\u001b[1;32m    246\u001b[0m ):\n\u001b[1;32m    247\u001b[0m     \u001b[39mself\u001b[39m\u001b[39m.\u001b[39m_update_magic_objects(level\u001b[39m=\u001b[39mlevel \u001b[39m+\u001b[39m \u001b[39m1\u001b[39m)\n\u001b[0;32m--> 248\u001b[0m     Network\u001b[39m.\u001b[39;49mrun(\n\u001b[1;32m    249\u001b[0m         \u001b[39mself\u001b[39;49m,\n\u001b[1;32m    250\u001b[0m         duration,\n\u001b[1;32m    251\u001b[0m         report\u001b[39m=\u001b[39;49mreport,\n\u001b[1;32m    252\u001b[0m         report_period\u001b[39m=\u001b[39;49mreport_period,\n\u001b[1;32m    253\u001b[0m         namespace\u001b[39m=\u001b[39;49mnamespace,\n\u001b[1;32m    254\u001b[0m         profile\u001b[39m=\u001b[39;49mprofile,\n\u001b[1;32m    255\u001b[0m         level\u001b[39m=\u001b[39;49mlevel \u001b[39m+\u001b[39;49m \u001b[39m1\u001b[39;49m,\n\u001b[1;32m    256\u001b[0m     )\n",
      "File \u001b[0;32m~/.conda/envs/brian2/lib/python3.10/site-packages/brian2/core/base.py:335\u001b[0m, in \u001b[0;36mdevice_override.<locals>.device_override_decorator.<locals>.device_override_decorated_function\u001b[0;34m(*args, **kwds)\u001b[0m\n\u001b[1;32m    333\u001b[0m     \u001b[39mreturn\u001b[39;00m \u001b[39mgetattr\u001b[39m(curdev, name)(\u001b[39m*\u001b[39margs, \u001b[39m*\u001b[39m\u001b[39m*\u001b[39mkwds)\n\u001b[1;32m    334\u001b[0m \u001b[39melse\u001b[39;00m:\n\u001b[0;32m--> 335\u001b[0m     \u001b[39mreturn\u001b[39;00m func(\u001b[39m*\u001b[39;49margs, \u001b[39m*\u001b[39;49m\u001b[39m*\u001b[39;49mkwds)\n",
      "File \u001b[0;32m~/.conda/envs/brian2/lib/python3.10/site-packages/brian2/units/fundamentalunits.py:2780\u001b[0m, in \u001b[0;36mcheck_units.<locals>.do_check_units.<locals>.new_f\u001b[0;34m(*args, **kwds)\u001b[0m\n\u001b[1;32m   2770\u001b[0m             error_message \u001b[39m=\u001b[39m (\n\u001b[1;32m   2771\u001b[0m                 \u001b[39mf\u001b[39m\u001b[39m\"\u001b[39m\u001b[39mFunction \u001b[39m\u001b[39m'\u001b[39m\u001b[39m{\u001b[39;00mf\u001b[39m.\u001b[39m\u001b[39m__name__\u001b[39m\u001b[39m}\u001b[39;00m\u001b[39m'\u001b[39m\u001b[39m \u001b[39m\u001b[39m\"\u001b[39m\n\u001b[1;32m   2772\u001b[0m                 \u001b[39m\"\u001b[39m\u001b[39mexpected a quantitity with unit \u001b[39m\u001b[39m\"\u001b[39m\n\u001b[1;32m   2773\u001b[0m                 \u001b[39mf\u001b[39m\u001b[39m\"\u001b[39m\u001b[39m{\u001b[39;00munit\u001b[39m}\u001b[39;00m\u001b[39m for argument \u001b[39m\u001b[39m'\u001b[39m\u001b[39m{\u001b[39;00mk\u001b[39m}\u001b[39;00m\u001b[39m'\u001b[39m\u001b[39m but got \u001b[39m\u001b[39m\"\u001b[39m\n\u001b[1;32m   2774\u001b[0m                 \u001b[39mf\u001b[39m\u001b[39m\"\u001b[39m\u001b[39m'\u001b[39m\u001b[39m{\u001b[39;00mvalue\u001b[39m}\u001b[39;00m\u001b[39m'\u001b[39m\u001b[39m\"\u001b[39m\n\u001b[1;32m   2775\u001b[0m             )\n\u001b[1;32m   2776\u001b[0m             \u001b[39mraise\u001b[39;00m DimensionMismatchError(\n\u001b[1;32m   2777\u001b[0m                 error_message, get_dimensions(newkeyset[k])\n\u001b[1;32m   2778\u001b[0m             )\n\u001b[0;32m-> 2780\u001b[0m result \u001b[39m=\u001b[39m f(\u001b[39m*\u001b[39;49margs, \u001b[39m*\u001b[39;49m\u001b[39m*\u001b[39;49mkwds)\n\u001b[1;32m   2781\u001b[0m \u001b[39mif\u001b[39;00m \u001b[39m\"\u001b[39m\u001b[39mresult\u001b[39m\u001b[39m\"\u001b[39m \u001b[39min\u001b[39;00m au:\n\u001b[1;32m   2782\u001b[0m     \u001b[39mif\u001b[39;00m \u001b[39misinstance\u001b[39m(au[\u001b[39m\"\u001b[39m\u001b[39mresult\u001b[39m\u001b[39m\"\u001b[39m], Callable) \u001b[39mand\u001b[39;00m au[\u001b[39m\"\u001b[39m\u001b[39mresult\u001b[39m\u001b[39m\"\u001b[39m] \u001b[39m!=\u001b[39m \u001b[39mbool\u001b[39m:\n",
      "File \u001b[0;32m~/.conda/envs/brian2/lib/python3.10/site-packages/brian2/core/network.py:1132\u001b[0m, in \u001b[0;36mNetwork.run\u001b[0;34m(self, duration, report, report_period, namespace, profile, level)\u001b[0m\n\u001b[1;32m   1129\u001b[0m \u001b[39mif\u001b[39;00m namespace \u001b[39mis\u001b[39;00m \u001b[39mNone\u001b[39;00m:\n\u001b[1;32m   1130\u001b[0m     namespace \u001b[39m=\u001b[39m get_local_namespace(level\u001b[39m=\u001b[39mlevel \u001b[39m+\u001b[39m \u001b[39m3\u001b[39m)\n\u001b[0;32m-> 1132\u001b[0m \u001b[39mself\u001b[39;49m\u001b[39m.\u001b[39;49mbefore_run(namespace)\n\u001b[1;32m   1134\u001b[0m \u001b[39mif\u001b[39;00m \u001b[39mlen\u001b[39m(all_objects) \u001b[39m==\u001b[39m \u001b[39m0\u001b[39m:\n\u001b[1;32m   1135\u001b[0m     \u001b[39mreturn\u001b[39;00m  \u001b[39m# TODO: raise an error? warning?\u001b[39;00m\n",
      "File \u001b[0;32m~/.conda/envs/brian2/lib/python3.10/site-packages/brian2/core/base.py:335\u001b[0m, in \u001b[0;36mdevice_override.<locals>.device_override_decorator.<locals>.device_override_decorated_function\u001b[0;34m(*args, **kwds)\u001b[0m\n\u001b[1;32m    333\u001b[0m     \u001b[39mreturn\u001b[39;00m \u001b[39mgetattr\u001b[39m(curdev, name)(\u001b[39m*\u001b[39margs, \u001b[39m*\u001b[39m\u001b[39m*\u001b[39mkwds)\n\u001b[1;32m    334\u001b[0m \u001b[39melse\u001b[39;00m:\n\u001b[0;32m--> 335\u001b[0m     \u001b[39mreturn\u001b[39;00m func(\u001b[39m*\u001b[39;49margs, \u001b[39m*\u001b[39;49m\u001b[39m*\u001b[39;49mkwds)\n",
      "File \u001b[0;32m~/.conda/envs/brian2/lib/python3.10/site-packages/brian2/core/network.py:998\u001b[0m, in \u001b[0;36mNetwork.before_run\u001b[0;34m(self, run_namespace)\u001b[0m\n\u001b[1;32m    996\u001b[0m             obj\u001b[39m.\u001b[39mbefore_run(run_namespace)\n\u001b[1;32m    997\u001b[0m         \u001b[39mexcept\u001b[39;00m \u001b[39mException\u001b[39;00m \u001b[39mas\u001b[39;00m ex:\n\u001b[0;32m--> 998\u001b[0m             \u001b[39mraise\u001b[39;00m BrianObjectException(\n\u001b[1;32m    999\u001b[0m                 \u001b[39m\"\u001b[39m\u001b[39mAn error occurred when preparing an object.\u001b[39m\u001b[39m\"\u001b[39m, obj\n\u001b[1;32m   1000\u001b[0m             ) \u001b[39mfrom\u001b[39;00m \u001b[39mex\u001b[39;00m\n\u001b[1;32m   1002\u001b[0m \u001b[39m# Check that no object has been run as part of another network before\u001b[39;00m\n\u001b[1;32m   1003\u001b[0m \u001b[39mfor\u001b[39;00m obj \u001b[39min\u001b[39;00m all_objects:\n",
      "\u001b[0;31mBrianObjectException\u001b[0m: Error encountered with object named 'neurongroup_2'.\nObject was created here (most recent call only, full details in debug log):\n  File '/tmp/ipykernel_31765/2653720013.py', line 4, in <module>\n    G = NeuronGroup(1, eqs)\n\nAn error occurred when preparing an object. (See above for original error message and traceback.)"
     ]
    }
   ],
   "source": [
    "eqs = '''\n",
    "dv/dt = 1-v : 1\n",
    "'''\n",
    "G = NeuronGroup(1, eqs)\n",
    "run(100*ms)"
   ]
  },
  {
   "cell_type": "code",
   "execution_count": 20,
   "metadata": {},
   "outputs": [
    {
     "name": "stderr",
     "output_type": "stream",
     "text": [
      "INFO       No numerical integration method specified for group 'neurongroup_1', using method 'exact' (took 0.00s). [brian2.stateupdaters.base.method_choice]\n"
     ]
    }
   ],
   "source": [
    "start_scope()\n",
    "\n",
    "tau = 10*ms\n",
    "eqs = '''\n",
    "dv/dt = (1-v)/tau : 1 # unit for v\n",
    "'''\n",
    "\n",
    "G = NeuronGroup(1, eqs)\n",
    "run(100*ms)"
   ]
  },
  {
   "cell_type": "code",
   "execution_count": 21,
   "metadata": {},
   "outputs": [
    {
     "name": "stdout",
     "output_type": "stream",
     "text": [
      "Before v = 0.0\n",
      "After v = 0.9999546000702376\n"
     ]
    }
   ],
   "source": [
    "start_scope()\n",
    "\n",
    "G = NeuronGroup(1, eqs, method='exact')\n",
    "print('Before v = %s' % G.v[0])\n",
    "run(100*ms)\n",
    "print('After v = %s' % G.v[0])"
   ]
  },
  {
   "cell_type": "markdown",
   "metadata": {},
   "source": [
    "* By default, all variables start with the value 0. Since the differential equation is dv/dt=(1-v)/tau we would expect after a while that v would tend towards the value 1, which is just what we see. Specifically, we’d expect v to have the value 1-exp(-t/tau). Let’s see if that’s right."
   ]
  },
  {
   "cell_type": "code",
   "execution_count": 22,
   "metadata": {},
   "outputs": [
    {
     "name": "stdout",
     "output_type": "stream",
     "text": [
      "Expected value of v = 0.9999546000702375\n"
     ]
    }
   ],
   "source": [
    "print('Expected value of v = %s' % (1-exp(-100*ms/tau)))"
   ]
  },
  {
   "cell_type": "code",
   "execution_count": null,
   "metadata": {},
   "outputs": [],
   "source": []
  },
  {
   "cell_type": "code",
   "execution_count": null,
   "metadata": {},
   "outputs": [],
   "source": []
  },
  {
   "cell_type": "code",
   "execution_count": null,
   "metadata": {},
   "outputs": [],
   "source": []
  },
  {
   "cell_type": "code",
   "execution_count": null,
   "metadata": {},
   "outputs": [],
   "source": []
  }
 ],
 "metadata": {
  "kernelspec": {
   "display_name": "brian2",
   "language": "python",
   "name": "python3"
  },
  "language_info": {
   "codemirror_mode": {
    "name": "ipython",
    "version": 3
   },
   "file_extension": ".py",
   "mimetype": "text/x-python",
   "name": "python",
   "nbconvert_exporter": "python",
   "pygments_lexer": "ipython3",
   "version": "3.10.0"
  },
  "orig_nbformat": 4
 },
 "nbformat": 4,
 "nbformat_minor": 2
}
